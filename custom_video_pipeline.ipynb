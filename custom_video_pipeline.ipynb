{
  "cells": [
    {
      "cell_type": "markdown",
      "metadata": {
        "colab_type": "text",
        "id": "view-in-github"
      },
      "source": [
        "<a href=\"https://colab.research.google.com/github/j-min/HiREST/blob/main/custom_video_pipeline.ipynb\" target=\"_parent\"><img src=\"https://colab.research.google.com/assets/colab-badge.svg\" alt=\"Open In Colab\"/></a>"
      ]
    },
    {
      "cell_type": "markdown",
      "metadata": {
        "id": "l5BXZYqxdqoD"
      },
      "source": [
        "# HiREST inference demo on a custom video with a joint baseline model\n",
        "\n",
        "* Project page: https://hirest-cvpr2023.github.io\n",
        "* Code: https://github.com/j-min/HiREST"
      ]
    },
    {
      "cell_type": "code",
      "execution_count": 1,
      "metadata": {
        "colab": {
          "base_uri": "https://localhost:8080/"
        },
        "id": "oGnYHOEDPmuA",
        "outputId": "9d123b1d-758a-4bc8-f46a-7f6e19e17eb1"
      },
      "outputs": [
        {
          "name": "stdout",
          "output_type": "stream",
          "text": [
            "Sat Sep 14 15:40:03 2024       \n",
            "+---------------------------------------------------------------------------------------+\n",
            "| NVIDIA-SMI 535.183.01             Driver Version: 535.183.01   CUDA Version: 12.2     |\n",
            "|-----------------------------------------+----------------------+----------------------+\n",
            "| GPU  Name                 Persistence-M | Bus-Id        Disp.A | Volatile Uncorr. ECC |\n",
            "| Fan  Temp   Perf          Pwr:Usage/Cap |         Memory-Usage | GPU-Util  Compute M. |\n",
            "|                                         |                      |               MIG M. |\n",
            "|=========================================+======================+======================|\n",
            "|   0  NVIDIA GeForce GTX 1650        Off | 00000000:01:00.0  On |                  N/A |\n",
            "| N/A   45C    P3              14W /  50W |    544MiB /  4096MiB |     35%      Default |\n",
            "|                                         |                      |                  N/A |\n",
            "+-----------------------------------------+----------------------+----------------------+\n",
            "                                                                                         \n",
            "+---------------------------------------------------------------------------------------+\n",
            "| Processes:                                                                            |\n",
            "|  GPU   GI   CI        PID   Type   Process name                            GPU Memory |\n",
            "|        ID   ID                                                             Usage      |\n",
            "|=======================================================================================|\n",
            "|    0   N/A  N/A      1121      G   /usr/lib/xorg/Xorg                          126MiB |\n",
            "|    0   N/A  N/A      1455      G   /usr/bin/gnome-shell                        130MiB |\n",
            "|    0   N/A  N/A      2051      G   ...erProcess --variations-seed-version       86MiB |\n",
            "|    0   N/A  N/A      2295      G   ...irefox/4848/usr/lib/firefox/firefox      198MiB |\n",
            "+---------------------------------------------------------------------------------------+\n"
          ]
        }
      ],
      "source": [
        "# Make sure GPU is used\n",
        "!nvidia-smi"
      ]
    },
    {
      "cell_type": "code",
      "execution_count": 2,
      "metadata": {
        "id": "2C9YaOcKGLJe"
      },
      "outputs": [
        {
          "name": "stdout",
          "output_type": "stream",
          "text": [
            "Cloning into 'HiREST'...\n",
            "remote: Enumerating objects: 122, done.\u001b[K\n",
            "remote: Counting objects: 100% (30/30), done.\u001b[K\n",
            "remote: Compressing objects: 100% (24/24), done.\u001b[K\n",
            "remote: Total 122 (delta 12), reused 12 (delta 6), pack-reused 92\u001b[K\n",
            "Receiving objects: 100% (122/122), 3.72 MiB | 24.91 MiB/s, done.\n",
            "Resolving deltas: 100% (21/21), done.\n"
          ]
        }
      ],
      "source": [
        "!git clone https://github.com/j-min/HiREST"
      ]
    },
    {
      "cell_type": "code",
      "execution_count": null,
      "metadata": {
        "id": "ZSonw6uHPvX7"
      },
      "outputs": [],
      "source": [
        "cd HiREST"
      ]
    },
    {
      "cell_type": "markdown",
      "metadata": {
        "id": "IKTGAv0zGACe"
      },
      "source": [
        "# Installation\n",
        "\n",
        "First install required libraries and download all pretrained weights"
      ]
    },
    {
      "cell_type": "code",
      "execution_count": 2,
      "metadata": {
        "colab": {
          "base_uri": "https://localhost:8080/"
        },
        "id": "jhilbHmKGACh",
        "outputId": "59036874-bb0b-45c5-943d-8683cbfdf064"
      },
      "outputs": [
        {
          "name": "stdout",
          "output_type": "stream",
          "text": [
            "Collecting git+https://github.com/openai/whisper.git@eff383b27b783e280c089475852ba83f20f64998 (from -r requirements.txt (line 24))\n",
            "  Cloning https://github.com/openai/whisper.git (to revision eff383b27b783e280c089475852ba83f20f64998) to /tmp/pip-req-build-gu74m10b\n",
            "  Running command git clone --filter=blob:none --quiet https://github.com/openai/whisper.git /tmp/pip-req-build-gu74m10b\n",
            "  Running command git rev-parse -q --verify 'sha^eff383b27b783e280c089475852ba83f20f64998'\n",
            "  Running command git fetch -q https://github.com/openai/whisper.git eff383b27b783e280c089475852ba83f20f64998\n",
            "  Running command git checkout -q eff383b27b783e280c089475852ba83f20f64998\n",
            "  Resolved https://github.com/openai/whisper.git to commit eff383b27b783e280c089475852ba83f20f64998\n",
            "  Preparing metadata (setup.py) ... \u001b[?25ldone\n",
            "\u001b[?25hCollecting git+https://github.com/bckim92/language-evaluation.git (from -r requirements.txt (line 25))\n",
            "  Cloning https://github.com/bckim92/language-evaluation.git to /tmp/pip-req-build-dv0xkfc6\n",
            "  Running command git clone --filter=blob:none --quiet https://github.com/bckim92/language-evaluation.git /tmp/pip-req-build-dv0xkfc6\n",
            "  Resolved https://github.com/bckim92/language-evaluation.git to commit 8e9e03feb7f5e605f20fc0c8dba0e24532a26216\n",
            "  Preparing metadata (setup.py) ... \u001b[?25ldone\n",
            "\u001b[?25hCollecting git+https://github.com/openai/CLIP.git (from -r requirements.txt (line 26))\n",
            "  Cloning https://github.com/openai/CLIP.git to /tmp/pip-req-build-ijjxpsvm\n",
            "  Running command git clone --filter=blob:none --quiet https://github.com/openai/CLIP.git /tmp/pip-req-build-ijjxpsvm\n",
            "  Resolved https://github.com/openai/CLIP.git to commit dcba3cb2e2827b402d2701e7e1c7d9fed8a20ef1\n",
            "  Preparing metadata (setup.py) ... \u001b[?25ldone\n",
            "\u001b[?25hRequirement already satisfied: torch in ./hirest/lib/python3.10/site-packages (from -r requirements.txt (line 1)) (2.4.1)\n",
            "Requirement already satisfied: torchvision in ./hirest/lib/python3.10/site-packages (from -r requirements.txt (line 2)) (0.19.1)\n",
            "Requirement already satisfied: opencv-python in ./hirest/lib/python3.10/site-packages (from -r requirements.txt (line 3)) (4.10.0.84)\n",
            "Requirement already satisfied: tokenizers==0.13.2 in ./hirest/lib/python3.10/site-packages (from -r requirements.txt (line 4)) (0.13.2)\n",
            "Requirement already satisfied: transformers==4.27.3 in ./hirest/lib/python3.10/site-packages (from -r requirements.txt (line 5)) (4.27.3)\n",
            "Requirement already satisfied: sentence-transformers in ./hirest/lib/python3.10/site-packages (from -r requirements.txt (line 6)) (2.2.2)\n",
            "Requirement already satisfied: accelerate in ./hirest/lib/python3.10/site-packages (from -r requirements.txt (line 7)) (0.34.2)\n",
            "Requirement already satisfied: ujson in ./hirest/lib/python3.10/site-packages (from -r requirements.txt (line 8)) (5.10.0)\n",
            "Requirement already satisfied: pandas in ./hirest/lib/python3.10/site-packages (from -r requirements.txt (line 9)) (2.2.2)\n",
            "Requirement already satisfied: wandb in ./hirest/lib/python3.10/site-packages (from -r requirements.txt (line 10)) (0.17.9)\n",
            "Requirement already satisfied: ftfy in ./hirest/lib/python3.10/site-packages (from -r requirements.txt (line 11)) (6.2.3)\n",
            "Requirement already satisfied: regex in ./hirest/lib/python3.10/site-packages (from -r requirements.txt (line 12)) (2024.7.24)\n",
            "Requirement already satisfied: tqdm in ./hirest/lib/python3.10/site-packages (from -r requirements.txt (line 13)) (4.66.5)\n",
            "Requirement already satisfied: srt in ./hirest/lib/python3.10/site-packages (from -r requirements.txt (line 14)) (3.5.3)\n",
            "Requirement already satisfied: IPython in ./hirest/lib/python3.10/site-packages (from -r requirements.txt (line 15)) (8.27.0)\n",
            "Requirement already satisfied: kornia in ./hirest/lib/python3.10/site-packages (from -r requirements.txt (line 16)) (0.7.3)\n",
            "Requirement already satisfied: gdown in ./hirest/lib/python3.10/site-packages (from -r requirements.txt (line 17)) (5.2.0)\n",
            "Requirement already satisfied: pickle5 in ./hirest/lib/python3.10/site-packages (from -r requirements.txt (line 18)) (0.0.11)\n",
            "Requirement already satisfied: pycocoevalcap in ./hirest/lib/python3.10/site-packages (from -r requirements.txt (line 19)) (1.2)\n",
            "Requirement already satisfied: timm in ./hirest/lib/python3.10/site-packages (from -r requirements.txt (line 20)) (1.0.9)\n",
            "Requirement already satisfied: bert-score in ./hirest/lib/python3.10/site-packages (from -r requirements.txt (line 21)) (0.3.13)\n",
            "Requirement already satisfied: boto3 in ./hirest/lib/python3.10/site-packages (from -r requirements.txt (line 22)) (1.35.16)\n",
            "Requirement already satisfied: pytube in ./hirest/lib/python3.10/site-packages (from -r requirements.txt (line 23)) (15.0.0)\n",
            "Requirement already satisfied: huggingface-hub<1.0,>=0.11.0 in ./hirest/lib/python3.10/site-packages (from transformers==4.27.3->-r requirements.txt (line 5)) (0.24.6)\n",
            "Requirement already satisfied: pyyaml>=5.1 in ./hirest/lib/python3.10/site-packages (from transformers==4.27.3->-r requirements.txt (line 5)) (6.0.2)\n",
            "Requirement already satisfied: packaging>=20.0 in ./hirest/lib/python3.10/site-packages (from transformers==4.27.3->-r requirements.txt (line 5)) (24.1)\n",
            "Requirement already satisfied: numpy>=1.17 in ./hirest/lib/python3.10/site-packages (from transformers==4.27.3->-r requirements.txt (line 5)) (2.1.1)\n",
            "Requirement already satisfied: filelock in ./hirest/lib/python3.10/site-packages (from transformers==4.27.3->-r requirements.txt (line 5)) (3.16.0)\n",
            "Requirement already satisfied: requests in ./hirest/lib/python3.10/site-packages (from transformers==4.27.3->-r requirements.txt (line 5)) (2.32.3)\n",
            "Requirement already satisfied: nvidia-cusolver-cu12==11.4.5.107 in ./hirest/lib/python3.10/site-packages (from torch->-r requirements.txt (line 1)) (11.4.5.107)\n",
            "Requirement already satisfied: nvidia-cufft-cu12==11.0.2.54 in ./hirest/lib/python3.10/site-packages (from torch->-r requirements.txt (line 1)) (11.0.2.54)\n",
            "Requirement already satisfied: nvidia-cusparse-cu12==12.1.0.106 in ./hirest/lib/python3.10/site-packages (from torch->-r requirements.txt (line 1)) (12.1.0.106)\n",
            "Requirement already satisfied: typing-extensions>=4.8.0 in ./hirest/lib/python3.10/site-packages (from torch->-r requirements.txt (line 1)) (4.12.2)\n",
            "Requirement already satisfied: nvidia-cuda-runtime-cu12==12.1.105 in ./hirest/lib/python3.10/site-packages (from torch->-r requirements.txt (line 1)) (12.1.105)\n",
            "Requirement already satisfied: nvidia-nvtx-cu12==12.1.105 in ./hirest/lib/python3.10/site-packages (from torch->-r requirements.txt (line 1)) (12.1.105)\n",
            "Requirement already satisfied: sympy in ./hirest/lib/python3.10/site-packages (from torch->-r requirements.txt (line 1)) (1.13.2)\n",
            "Requirement already satisfied: triton==3.0.0 in ./hirest/lib/python3.10/site-packages (from torch->-r requirements.txt (line 1)) (3.0.0)\n",
            "Requirement already satisfied: nvidia-cuda-nvrtc-cu12==12.1.105 in ./hirest/lib/python3.10/site-packages (from torch->-r requirements.txt (line 1)) (12.1.105)\n",
            "Requirement already satisfied: networkx in ./hirest/lib/python3.10/site-packages (from torch->-r requirements.txt (line 1)) (3.3)\n",
            "Requirement already satisfied: nvidia-cuda-cupti-cu12==12.1.105 in ./hirest/lib/python3.10/site-packages (from torch->-r requirements.txt (line 1)) (12.1.105)\n",
            "Requirement already satisfied: nvidia-curand-cu12==10.3.2.106 in ./hirest/lib/python3.10/site-packages (from torch->-r requirements.txt (line 1)) (10.3.2.106)\n",
            "Requirement already satisfied: nvidia-cublas-cu12==12.1.3.1 in ./hirest/lib/python3.10/site-packages (from torch->-r requirements.txt (line 1)) (12.1.3.1)\n",
            "Requirement already satisfied: jinja2 in ./hirest/lib/python3.10/site-packages (from torch->-r requirements.txt (line 1)) (3.1.4)\n",
            "Requirement already satisfied: nvidia-cudnn-cu12==9.1.0.70 in ./hirest/lib/python3.10/site-packages (from torch->-r requirements.txt (line 1)) (9.1.0.70)\n",
            "Requirement already satisfied: fsspec in ./hirest/lib/python3.10/site-packages (from torch->-r requirements.txt (line 1)) (2024.9.0)\n",
            "Requirement already satisfied: nvidia-nccl-cu12==2.20.5 in ./hirest/lib/python3.10/site-packages (from torch->-r requirements.txt (line 1)) (2.20.5)\n",
            "Requirement already satisfied: nvidia-nvjitlink-cu12 in ./hirest/lib/python3.10/site-packages (from nvidia-cusolver-cu12==11.4.5.107->torch->-r requirements.txt (line 1)) (12.6.68)\n",
            "Requirement already satisfied: pillow!=8.3.*,>=5.3.0 in ./hirest/lib/python3.10/site-packages (from torchvision->-r requirements.txt (line 2)) (10.4.0)\n",
            "Requirement already satisfied: nltk in ./hirest/lib/python3.10/site-packages (from sentence-transformers->-r requirements.txt (line 6)) (3.9.1)\n",
            "Requirement already satisfied: scikit-learn in ./hirest/lib/python3.10/site-packages (from sentence-transformers->-r requirements.txt (line 6)) (1.5.1)\n",
            "Requirement already satisfied: scipy in ./hirest/lib/python3.10/site-packages (from sentence-transformers->-r requirements.txt (line 6)) (1.14.1)\n",
            "Requirement already satisfied: sentencepiece in ./hirest/lib/python3.10/site-packages (from sentence-transformers->-r requirements.txt (line 6)) (0.2.0)\n",
            "Requirement already satisfied: safetensors>=0.4.3 in ./hirest/lib/python3.10/site-packages (from accelerate->-r requirements.txt (line 7)) (0.4.5)\n",
            "Requirement already satisfied: psutil in ./hirest/lib/python3.10/site-packages (from accelerate->-r requirements.txt (line 7)) (6.0.0)\n",
            "Requirement already satisfied: python-dateutil>=2.8.2 in ./hirest/lib/python3.10/site-packages (from pandas->-r requirements.txt (line 9)) (2.9.0.post0)\n",
            "Requirement already satisfied: pytz>=2020.1 in ./hirest/lib/python3.10/site-packages (from pandas->-r requirements.txt (line 9)) (2024.2)\n",
            "Requirement already satisfied: tzdata>=2022.7 in ./hirest/lib/python3.10/site-packages (from pandas->-r requirements.txt (line 9)) (2024.1)\n",
            "Requirement already satisfied: protobuf!=4.21.0,<6,>=3.19.0 in ./hirest/lib/python3.10/site-packages (from wandb->-r requirements.txt (line 10)) (5.28.0)\n",
            "Requirement already satisfied: sentry-sdk>=1.0.0 in ./hirest/lib/python3.10/site-packages (from wandb->-r requirements.txt (line 10)) (2.14.0)\n",
            "Requirement already satisfied: click!=8.0.0,>=7.1 in ./hirest/lib/python3.10/site-packages (from wandb->-r requirements.txt (line 10)) (8.1.7)\n",
            "Requirement already satisfied: setuptools in ./hirest/lib/python3.10/site-packages (from wandb->-r requirements.txt (line 10)) (59.6.0)\n",
            "Requirement already satisfied: platformdirs in ./hirest/lib/python3.10/site-packages (from wandb->-r requirements.txt (line 10)) (4.3.2)\n",
            "Requirement already satisfied: setproctitle in ./hirest/lib/python3.10/site-packages (from wandb->-r requirements.txt (line 10)) (1.3.3)\n",
            "Requirement already satisfied: gitpython!=3.1.29,>=1.0.0 in ./hirest/lib/python3.10/site-packages (from wandb->-r requirements.txt (line 10)) (3.1.43)\n",
            "Requirement already satisfied: docker-pycreds>=0.4.0 in ./hirest/lib/python3.10/site-packages (from wandb->-r requirements.txt (line 10)) (0.4.0)\n",
            "Requirement already satisfied: wcwidth<0.3.0,>=0.2.12 in ./hirest/lib/python3.10/site-packages (from ftfy->-r requirements.txt (line 11)) (0.2.13)\n",
            "Requirement already satisfied: pygments>=2.4.0 in ./hirest/lib/python3.10/site-packages (from IPython->-r requirements.txt (line 15)) (2.18.0)\n",
            "Requirement already satisfied: traitlets>=5.13.0 in ./hirest/lib/python3.10/site-packages (from IPython->-r requirements.txt (line 15)) (5.14.3)\n",
            "Requirement already satisfied: decorator in ./hirest/lib/python3.10/site-packages (from IPython->-r requirements.txt (line 15)) (5.1.1)\n",
            "Requirement already satisfied: exceptiongroup in ./hirest/lib/python3.10/site-packages (from IPython->-r requirements.txt (line 15)) (1.2.2)\n",
            "Requirement already satisfied: stack-data in ./hirest/lib/python3.10/site-packages (from IPython->-r requirements.txt (line 15)) (0.6.3)\n",
            "Requirement already satisfied: pexpect>4.3 in ./hirest/lib/python3.10/site-packages (from IPython->-r requirements.txt (line 15)) (4.9.0)\n",
            "Requirement already satisfied: matplotlib-inline in ./hirest/lib/python3.10/site-packages (from IPython->-r requirements.txt (line 15)) (0.1.7)\n",
            "Requirement already satisfied: jedi>=0.16 in ./hirest/lib/python3.10/site-packages (from IPython->-r requirements.txt (line 15)) (0.19.1)\n",
            "Requirement already satisfied: prompt-toolkit<3.1.0,>=3.0.41 in ./hirest/lib/python3.10/site-packages (from IPython->-r requirements.txt (line 15)) (3.0.47)\n",
            "Requirement already satisfied: kornia-rs>=0.1.0 in ./hirest/lib/python3.10/site-packages (from kornia->-r requirements.txt (line 16)) (0.1.5)\n",
            "Requirement already satisfied: beautifulsoup4 in ./hirest/lib/python3.10/site-packages (from gdown->-r requirements.txt (line 17)) (4.12.3)\n",
            "Requirement already satisfied: pycocotools>=2.0.2 in ./hirest/lib/python3.10/site-packages (from pycocoevalcap->-r requirements.txt (line 19)) (2.0.8)\n",
            "Requirement already satisfied: matplotlib in ./hirest/lib/python3.10/site-packages (from bert-score->-r requirements.txt (line 21)) (3.9.2)\n",
            "Requirement already satisfied: s3transfer<0.11.0,>=0.10.0 in ./hirest/lib/python3.10/site-packages (from boto3->-r requirements.txt (line 22)) (0.10.2)\n",
            "Requirement already satisfied: botocore<1.36.0,>=1.35.16 in ./hirest/lib/python3.10/site-packages (from boto3->-r requirements.txt (line 22)) (1.35.16)\n",
            "Requirement already satisfied: jmespath<2.0.0,>=0.7.1 in ./hirest/lib/python3.10/site-packages (from boto3->-r requirements.txt (line 22)) (1.0.1)\n",
            "Requirement already satisfied: ffmpeg-python==0.2.0 in ./hirest/lib/python3.10/site-packages (from whisper==1.0->-r requirements.txt (line 24)) (0.2.0)\n",
            "Requirement already satisfied: more-itertools in ./hirest/lib/python3.10/site-packages (from whisper==1.0->-r requirements.txt (line 24)) (10.5.0)\n",
            "Requirement already satisfied: future in ./hirest/lib/python3.10/site-packages (from ffmpeg-python==0.2.0->whisper==1.0->-r requirements.txt (line 24)) (1.0.0)\n",
            "Requirement already satisfied: absl-py in ./hirest/lib/python3.10/site-packages (from language-evaluation==0.1.0->-r requirements.txt (line 25)) (2.1.0)\n",
            "Requirement already satisfied: colorlog in ./hirest/lib/python3.10/site-packages (from language-evaluation==0.1.0->-r requirements.txt (line 25)) (6.8.2)\n",
            "Requirement already satisfied: scikit-image in ./hirest/lib/python3.10/site-packages (from language-evaluation==0.1.0->-r requirements.txt (line 25)) (0.24.0)\n",
            "Requirement already satisfied: six in ./hirest/lib/python3.10/site-packages (from language-evaluation==0.1.0->-r requirements.txt (line 25)) (1.16.0)\n",
            "Requirement already satisfied: urllib3!=2.2.0,<3,>=1.25.4 in ./hirest/lib/python3.10/site-packages (from botocore<1.36.0,>=1.35.16->boto3->-r requirements.txt (line 22)) (2.2.2)\n",
            "Requirement already satisfied: gitdb<5,>=4.0.1 in ./hirest/lib/python3.10/site-packages (from gitpython!=3.1.29,>=1.0.0->wandb->-r requirements.txt (line 10)) (4.0.11)\n",
            "Requirement already satisfied: parso<0.9.0,>=0.8.3 in ./hirest/lib/python3.10/site-packages (from jedi>=0.16->IPython->-r requirements.txt (line 15)) (0.8.4)\n",
            "Requirement already satisfied: ptyprocess>=0.5 in ./hirest/lib/python3.10/site-packages (from pexpect>4.3->IPython->-r requirements.txt (line 15)) (0.7.0)\n",
            "Requirement already satisfied: cycler>=0.10 in ./hirest/lib/python3.10/site-packages (from matplotlib->bert-score->-r requirements.txt (line 21)) (0.12.1)\n",
            "Requirement already satisfied: contourpy>=1.0.1 in ./hirest/lib/python3.10/site-packages (from matplotlib->bert-score->-r requirements.txt (line 21)) (1.3.0)\n",
            "Requirement already satisfied: kiwisolver>=1.3.1 in ./hirest/lib/python3.10/site-packages (from matplotlib->bert-score->-r requirements.txt (line 21)) (1.4.7)\n",
            "Requirement already satisfied: pyparsing>=2.3.1 in ./hirest/lib/python3.10/site-packages (from matplotlib->bert-score->-r requirements.txt (line 21)) (3.1.4)\n",
            "Requirement already satisfied: fonttools>=4.22.0 in ./hirest/lib/python3.10/site-packages (from matplotlib->bert-score->-r requirements.txt (line 21)) (4.53.1)\n",
            "Requirement already satisfied: charset-normalizer<4,>=2 in ./hirest/lib/python3.10/site-packages (from requests->transformers==4.27.3->-r requirements.txt (line 5)) (3.3.2)\n",
            "Requirement already satisfied: certifi>=2017.4.17 in ./hirest/lib/python3.10/site-packages (from requests->transformers==4.27.3->-r requirements.txt (line 5)) (2024.8.30)\n",
            "Requirement already satisfied: idna<4,>=2.5 in ./hirest/lib/python3.10/site-packages (from requests->transformers==4.27.3->-r requirements.txt (line 5)) (3.8)\n",
            "Requirement already satisfied: soupsieve>1.2 in ./hirest/lib/python3.10/site-packages (from beautifulsoup4->gdown->-r requirements.txt (line 17)) (2.6)\n",
            "Requirement already satisfied: MarkupSafe>=2.0 in ./hirest/lib/python3.10/site-packages (from jinja2->torch->-r requirements.txt (line 1)) (2.1.5)\n",
            "Requirement already satisfied: joblib in ./hirest/lib/python3.10/site-packages (from nltk->sentence-transformers->-r requirements.txt (line 6)) (1.4.2)\n",
            "Requirement already satisfied: PySocks!=1.5.7,>=1.5.6 in ./hirest/lib/python3.10/site-packages (from requests->transformers==4.27.3->-r requirements.txt (line 5)) (1.7.1)\n",
            "Requirement already satisfied: imageio>=2.33 in ./hirest/lib/python3.10/site-packages (from scikit-image->language-evaluation==0.1.0->-r requirements.txt (line 25)) (2.35.1)\n",
            "Requirement already satisfied: tifffile>=2022.8.12 in ./hirest/lib/python3.10/site-packages (from scikit-image->language-evaluation==0.1.0->-r requirements.txt (line 25)) (2024.8.30)\n",
            "Requirement already satisfied: lazy-loader>=0.4 in ./hirest/lib/python3.10/site-packages (from scikit-image->language-evaluation==0.1.0->-r requirements.txt (line 25)) (0.4)\n",
            "Requirement already satisfied: threadpoolctl>=3.1.0 in ./hirest/lib/python3.10/site-packages (from scikit-learn->sentence-transformers->-r requirements.txt (line 6)) (3.5.0)\n",
            "Requirement already satisfied: executing>=1.2.0 in ./hirest/lib/python3.10/site-packages (from stack-data->IPython->-r requirements.txt (line 15)) (2.1.0)\n",
            "Requirement already satisfied: pure-eval in ./hirest/lib/python3.10/site-packages (from stack-data->IPython->-r requirements.txt (line 15)) (0.2.3)\n",
            "Requirement already satisfied: asttokens>=2.1.0 in ./hirest/lib/python3.10/site-packages (from stack-data->IPython->-r requirements.txt (line 15)) (2.4.1)\n",
            "Requirement already satisfied: mpmath<1.4,>=1.1.0 in ./hirest/lib/python3.10/site-packages (from sympy->torch->-r requirements.txt (line 1)) (1.3.0)\n",
            "Requirement already satisfied: smmap<6,>=3.0.1 in ./hirest/lib/python3.10/site-packages (from gitdb<5,>=4.0.1->gitpython!=3.1.29,>=1.0.0->wandb->-r requirements.txt (line 10)) (5.0.1)\n"
          ]
        }
      ],
      "source": [
        "!pip install -r requirements.txt"
      ]
    },
    {
      "cell_type": "markdown",
      "metadata": {
        "id": "tLJ1lRoUQY-G"
      },
      "source": [
        "# Download Checkpoints"
      ]
    },
    {
      "cell_type": "code",
      "execution_count": 3,
      "metadata": {
        "id": "BfMJ8QJYGACi"
      },
      "outputs": [],
      "source": [
        "!mkdir ./checkpoints/\n",
        "!mkdir ./checkpoints/hirest_joint_model/\n",
        "!mkdir ./pretrained_weights/"
      ]
    },
    {
      "cell_type": "code",
      "execution_count": 4,
      "metadata": {
        "colab": {
          "base_uri": "https://localhost:8080/"
        },
        "id": "DVQG8FZaGACi",
        "outputId": "6ab92159-8937-45b1-8cab-67571e8d2ad3"
      },
      "outputs": [
        {
          "name": "stdout",
          "output_type": "stream",
          "text": [
            "--2024-09-14 15:53:34--  https://huggingface.co/j-min/HiREST-baseline/resolve/main/clip4caption_vit-b-32_model.bin\n",
            "Resolving huggingface.co (huggingface.co)... 18.67.216.43, 18.67.216.58, 18.67.216.51, ...\n",
            "Connecting to huggingface.co (huggingface.co)|18.67.216.43|:443... connected.\n",
            "HTTP request sent, awaiting response... 302 Found\n",
            "Location: https://cdn-lfs.huggingface.co/repos/43/e5/43e5477f8142d4d657272c2d83709064f52cea70061d7f463fe4e9973cc4707b/e4814e953cb088c2f096ac346b003a750bed4f899b7af7bbd9513d43247837be?response-content-disposition=inline%3B+filename*%3DUTF-8%27%27clip4caption_vit-b-32_model.bin%3B+filename%3D%22clip4caption_vit-b-32_model.bin%22%3B&response-content-type=application%2Foctet-stream&Expires=1726563214&Policy=eyJTdGF0ZW1lbnQiOlt7IkNvbmRpdGlvbiI6eyJEYXRlTGVzc1RoYW4iOnsiQVdTOkVwb2NoVGltZSI6MTcyNjU2MzIxNH19LCJSZXNvdXJjZSI6Imh0dHBzOi8vY2RuLWxmcy5odWdnaW5nZmFjZS5jby9yZXBvcy80My9lNS80M2U1NDc3ZjgxNDJkNGQ2NTcyNzJjMmQ4MzcwOTA2NGY1MmNlYTcwMDYxZDdmNDYzZmU0ZTk5NzNjYzQ3MDdiL2U0ODE0ZTk1M2NiMDg4YzJmMDk2YWMzNDZiMDAzYTc1MGJlZDRmODk5YjdhZjdiYmQ5NTEzZDQzMjQ3ODM3YmU%7EcmVzcG9uc2UtY29udGVudC1kaXNwb3NpdGlvbj0qJnJlc3BvbnNlLWNvbnRlbnQtdHlwZT0qIn1dfQ__&Signature=VEu1c%7EYBVKcsm8rXMPkSLqadWNJCSM7g5cPr59OQu8xyWZpQvQu7W-UjfurCtZ1aAbMw%7Ex6ShF4o3UOPnkBn-6AvHD0Id4G5KQo0Mh8cp%7ESU3vYQSvwXJ1ivEEiUNYHZrwTds1r7NvZye2z3SX0Jw0cs6auIX4XJ1vMy%7E4TdKvObtGRWE5-gSO5hsnUpBHQ8IW5oTfEx%7EJNtIEkc4lYjhXcJKw%7EG8a7fJjUG5v7keXWCCHTD4pu4HAR7uEpILvLkhcUQeiI3ZqArPtHYxMmfVYbFaeOoacLClQnkNjviw4OkoKn58ajLlt9e-apK8PjaPBn5uKp-062IiVOf7hX-qw__&Key-Pair-Id=K3ESJI6DHPFC7 [following]\n",
            "--2024-09-14 15:53:34--  https://cdn-lfs.huggingface.co/repos/43/e5/43e5477f8142d4d657272c2d83709064f52cea70061d7f463fe4e9973cc4707b/e4814e953cb088c2f096ac346b003a750bed4f899b7af7bbd9513d43247837be?response-content-disposition=inline%3B+filename*%3DUTF-8%27%27clip4caption_vit-b-32_model.bin%3B+filename%3D%22clip4caption_vit-b-32_model.bin%22%3B&response-content-type=application%2Foctet-stream&Expires=1726563214&Policy=eyJTdGF0ZW1lbnQiOlt7IkNvbmRpdGlvbiI6eyJEYXRlTGVzc1RoYW4iOnsiQVdTOkVwb2NoVGltZSI6MTcyNjU2MzIxNH19LCJSZXNvdXJjZSI6Imh0dHBzOi8vY2RuLWxmcy5odWdnaW5nZmFjZS5jby9yZXBvcy80My9lNS80M2U1NDc3ZjgxNDJkNGQ2NTcyNzJjMmQ4MzcwOTA2NGY1MmNlYTcwMDYxZDdmNDYzZmU0ZTk5NzNjYzQ3MDdiL2U0ODE0ZTk1M2NiMDg4YzJmMDk2YWMzNDZiMDAzYTc1MGJlZDRmODk5YjdhZjdiYmQ5NTEzZDQzMjQ3ODM3YmU%7EcmVzcG9uc2UtY29udGVudC1kaXNwb3NpdGlvbj0qJnJlc3BvbnNlLWNvbnRlbnQtdHlwZT0qIn1dfQ__&Signature=VEu1c%7EYBVKcsm8rXMPkSLqadWNJCSM7g5cPr59OQu8xyWZpQvQu7W-UjfurCtZ1aAbMw%7Ex6ShF4o3UOPnkBn-6AvHD0Id4G5KQo0Mh8cp%7ESU3vYQSvwXJ1ivEEiUNYHZrwTds1r7NvZye2z3SX0Jw0cs6auIX4XJ1vMy%7E4TdKvObtGRWE5-gSO5hsnUpBHQ8IW5oTfEx%7EJNtIEkc4lYjhXcJKw%7EG8a7fJjUG5v7keXWCCHTD4pu4HAR7uEpILvLkhcUQeiI3ZqArPtHYxMmfVYbFaeOoacLClQnkNjviw4OkoKn58ajLlt9e-apK8PjaPBn5uKp-062IiVOf7hX-qw__&Key-Pair-Id=K3ESJI6DHPFC7\n",
            "Resolving cdn-lfs.huggingface.co (cdn-lfs.huggingface.co)... 18.67.216.100, 18.67.216.58, 18.67.216.99, ...\n",
            "Connecting to cdn-lfs.huggingface.co (cdn-lfs.huggingface.co)|18.67.216.100|:443... connected.\n",
            "HTTP request sent, awaiting response... 200 OK\n",
            "Length: 235712437 (225M) [application/octet-stream]\n",
            "Saving to: ‘clip4caption_vit-b-32_model.bin’\n",
            "\n",
            "clip4caption_vit-b- 100%[===================>] 224,79M  10,7MB/s    in 21s     \n",
            "\n",
            "2024-09-14 15:53:57 (10,5 MB/s) - ‘clip4caption_vit-b-32_model.bin’ saved [235712437/235712437]\n",
            "\n",
            "--2024-09-14 15:53:57--  https://huggingface.co/BAAI/EVA/resolve/main/eva_clip_psz14.pt\n",
            "Resolving huggingface.co (huggingface.co)... 18.67.216.43, 18.67.216.58, 18.67.216.50, ...\n",
            "Connecting to huggingface.co (huggingface.co)|18.67.216.43|:443... connected.\n",
            "HTTP request sent, awaiting response... 302 Found\n",
            "Location: https://cdn-lfs.huggingface.co/repos/58/f1/58f17426d51756a1aa3793fad0651594b6c14d7bf99c577181cb2e0614f61817/fe1d3a90bb88c3816a8c708b8a16c11c93cc323ec9e7bc7a0e8b979449fa9785?response-content-disposition=inline%3B+filename*%3DUTF-8%27%27eva_clip_psz14.pt%3B+filename%3D%22eva_clip_psz14.pt%22%3B&Expires=1726563237&Policy=eyJTdGF0ZW1lbnQiOlt7IkNvbmRpdGlvbiI6eyJEYXRlTGVzc1RoYW4iOnsiQVdTOkVwb2NoVGltZSI6MTcyNjU2MzIzN319LCJSZXNvdXJjZSI6Imh0dHBzOi8vY2RuLWxmcy5odWdnaW5nZmFjZS5jby9yZXBvcy81OC9mMS81OGYxNzQyNmQ1MTc1NmExYWEzNzkzZmFkMDY1MTU5NGI2YzE0ZDdiZjk5YzU3NzE4MWNiMmUwNjE0ZjYxODE3L2ZlMWQzYTkwYmI4OGMzODE2YThjNzA4YjhhMTZjMTFjOTNjYzMyM2VjOWU3YmM3YTBlOGI5Nzk0NDlmYTk3ODU%7EcmVzcG9uc2UtY29udGVudC1kaXNwb3NpdGlvbj0qIn1dfQ__&Signature=Nxbvi-9u904TirnAY7ML6obrBJB7hwxWe7lm6iZ8zxXdYZ3UP9JZhyrCv7OTkqvMmAxeBP8gIKRIer3dDlrota2RYcqZvV4Dvzr7HpdG4n7CU6HXh4WetmdTOt-75Qj6RRKtf%7EQt6tqB5V8NRKf4Vj5t0bHeUmBq2URbSfoSAh8-6yrtSE3JdPdSbdj1Qv-pXosiP%7Eslr9Yb7GSbv8FoPbMedIOm8WWbGLIImWuW6gGKr%7EgHkb4tAqdqHsJ9yEVhi2VUV4z-2CPJYmJ29SKiHbUPNi781atnAZOSbJ2GHiZ4Wn%7E2klStgmP6CtXtOk5PLRIhSHQ0x4Wai5ajq0Y0WQ__&Key-Pair-Id=K3ESJI6DHPFC7 [following]\n",
            "--2024-09-14 15:53:57--  https://cdn-lfs.huggingface.co/repos/58/f1/58f17426d51756a1aa3793fad0651594b6c14d7bf99c577181cb2e0614f61817/fe1d3a90bb88c3816a8c708b8a16c11c93cc323ec9e7bc7a0e8b979449fa9785?response-content-disposition=inline%3B+filename*%3DUTF-8%27%27eva_clip_psz14.pt%3B+filename%3D%22eva_clip_psz14.pt%22%3B&Expires=1726563237&Policy=eyJTdGF0ZW1lbnQiOlt7IkNvbmRpdGlvbiI6eyJEYXRlTGVzc1RoYW4iOnsiQVdTOkVwb2NoVGltZSI6MTcyNjU2MzIzN319LCJSZXNvdXJjZSI6Imh0dHBzOi8vY2RuLWxmcy5odWdnaW5nZmFjZS5jby9yZXBvcy81OC9mMS81OGYxNzQyNmQ1MTc1NmExYWEzNzkzZmFkMDY1MTU5NGI2YzE0ZDdiZjk5YzU3NzE4MWNiMmUwNjE0ZjYxODE3L2ZlMWQzYTkwYmI4OGMzODE2YThjNzA4YjhhMTZjMTFjOTNjYzMyM2VjOWU3YmM3YTBlOGI5Nzk0NDlmYTk3ODU%7EcmVzcG9uc2UtY29udGVudC1kaXNwb3NpdGlvbj0qIn1dfQ__&Signature=Nxbvi-9u904TirnAY7ML6obrBJB7hwxWe7lm6iZ8zxXdYZ3UP9JZhyrCv7OTkqvMmAxeBP8gIKRIer3dDlrota2RYcqZvV4Dvzr7HpdG4n7CU6HXh4WetmdTOt-75Qj6RRKtf%7EQt6tqB5V8NRKf4Vj5t0bHeUmBq2URbSfoSAh8-6yrtSE3JdPdSbdj1Qv-pXosiP%7Eslr9Yb7GSbv8FoPbMedIOm8WWbGLIImWuW6gGKr%7EgHkb4tAqdqHsJ9yEVhi2VUV4z-2CPJYmJ29SKiHbUPNi781atnAZOSbJ2GHiZ4Wn%7E2klStgmP6CtXtOk5PLRIhSHQ0x4Wai5ajq0Y0WQ__&Key-Pair-Id=K3ESJI6DHPFC7\n",
            "Resolving cdn-lfs.huggingface.co (cdn-lfs.huggingface.co)... 18.67.216.99, 18.67.216.58, 18.67.216.85, ...\n",
            "Connecting to cdn-lfs.huggingface.co (cdn-lfs.huggingface.co)|18.67.216.99|:443... connected.\n",
            "HTTP request sent, awaiting response... 200 OK\n",
            "Length: 2273012515 (2,1G) [binary/octet-stream]\n",
            "Saving to: ‘eva_clip_psz14.pt’\n",
            "\n",
            "eva_clip_psz14.pt   100%[===================>]   2,12G  10,4MB/s    in 3m 30s  \n",
            "\n",
            "2024-09-14 15:57:28 (10,3 MB/s) - ‘eva_clip_psz14.pt’ saved [2273012515/2273012515]\n",
            "\n",
            "--2024-09-14 15:57:28--  https://huggingface.co/j-min/HiREST-baseline/resolve/main/HiREST_BEST.pth\n",
            "Resolving huggingface.co (huggingface.co)... 18.67.216.50, 18.67.216.58, 18.67.216.43, ...\n",
            "Connecting to huggingface.co (huggingface.co)|18.67.216.50|:443... connected.\n",
            "HTTP request sent, awaiting response... 302 Found\n",
            "Location: https://cdn-lfs.huggingface.co/repos/43/e5/43e5477f8142d4d657272c2d83709064f52cea70061d7f463fe4e9973cc4707b/9f3c207007614fe25a07ec7788f35d122e4bb5eafdfa2775f86cdc3eb6b38100?response-content-disposition=inline%3B+filename*%3DUTF-8%27%27HiREST_BEST.pth%3B+filename%3D%22HiREST_BEST.pth%22%3B&Expires=1726563448&Policy=eyJTdGF0ZW1lbnQiOlt7IkNvbmRpdGlvbiI6eyJEYXRlTGVzc1RoYW4iOnsiQVdTOkVwb2NoVGltZSI6MTcyNjU2MzQ0OH19LCJSZXNvdXJjZSI6Imh0dHBzOi8vY2RuLWxmcy5odWdnaW5nZmFjZS5jby9yZXBvcy80My9lNS80M2U1NDc3ZjgxNDJkNGQ2NTcyNzJjMmQ4MzcwOTA2NGY1MmNlYTcwMDYxZDdmNDYzZmU0ZTk5NzNjYzQ3MDdiLzlmM2MyMDcwMDc2MTRmZTI1YTA3ZWM3Nzg4ZjM1ZDEyMmU0YmI1ZWFmZGZhMjc3NWY4NmNkYzNlYjZiMzgxMDA%7EcmVzcG9uc2UtY29udGVudC1kaXNwb3NpdGlvbj0qIn1dfQ__&Signature=N-NQ-zOB9patj-EOf6GcPG9KtD53kDleUfN7BKtrrgVVEtpjvsxST7EQXYctTMf0HOO1m%7E1uxp4OMm155S0OwYl%7EXP%7EQ25UCGvJDsnXR53BUkgrEwZ-qq8L5P0yLKmDfotDSX8LaFMh6heZtklwYrBKXG2yg-ruxvJN246z-3LoITG6DMrUYrO2t3d5%7EXlf-9yCFVqcubFSTC2i92XTBCv%7E5UNukgnzfQWs2JU8QaW2UvqGJG9SMmANsDMN2mG5pv5rN6LqopRG8WwPYsa%7EogqIwSsDTi5Gmn5iSq4pAFjrVHmpXwgkY%7EwR5FxbuAmdo0smD4X5Uszg9EcsAgEgfuw__&Key-Pair-Id=K3ESJI6DHPFC7 [following]\n",
            "--2024-09-14 15:57:28--  https://cdn-lfs.huggingface.co/repos/43/e5/43e5477f8142d4d657272c2d83709064f52cea70061d7f463fe4e9973cc4707b/9f3c207007614fe25a07ec7788f35d122e4bb5eafdfa2775f86cdc3eb6b38100?response-content-disposition=inline%3B+filename*%3DUTF-8%27%27HiREST_BEST.pth%3B+filename%3D%22HiREST_BEST.pth%22%3B&Expires=1726563448&Policy=eyJTdGF0ZW1lbnQiOlt7IkNvbmRpdGlvbiI6eyJEYXRlTGVzc1RoYW4iOnsiQVdTOkVwb2NoVGltZSI6MTcyNjU2MzQ0OH19LCJSZXNvdXJjZSI6Imh0dHBzOi8vY2RuLWxmcy5odWdnaW5nZmFjZS5jby9yZXBvcy80My9lNS80M2U1NDc3ZjgxNDJkNGQ2NTcyNzJjMmQ4MzcwOTA2NGY1MmNlYTcwMDYxZDdmNDYzZmU0ZTk5NzNjYzQ3MDdiLzlmM2MyMDcwMDc2MTRmZTI1YTA3ZWM3Nzg4ZjM1ZDEyMmU0YmI1ZWFmZGZhMjc3NWY4NmNkYzNlYjZiMzgxMDA%7EcmVzcG9uc2UtY29udGVudC1kaXNwb3NpdGlvbj0qIn1dfQ__&Signature=N-NQ-zOB9patj-EOf6GcPG9KtD53kDleUfN7BKtrrgVVEtpjvsxST7EQXYctTMf0HOO1m%7E1uxp4OMm155S0OwYl%7EXP%7EQ25UCGvJDsnXR53BUkgrEwZ-qq8L5P0yLKmDfotDSX8LaFMh6heZtklwYrBKXG2yg-ruxvJN246z-3LoITG6DMrUYrO2t3d5%7EXlf-9yCFVqcubFSTC2i92XTBCv%7E5UNukgnzfQWs2JU8QaW2UvqGJG9SMmANsDMN2mG5pv5rN6LqopRG8WwPYsa%7EogqIwSsDTi5Gmn5iSq4pAFjrVHmpXwgkY%7EwR5FxbuAmdo0smD4X5Uszg9EcsAgEgfuw__&Key-Pair-Id=K3ESJI6DHPFC7\n",
            "Resolving cdn-lfs.huggingface.co (cdn-lfs.huggingface.co)... 18.67.216.100, 18.67.216.58, 18.67.216.85, ...\n",
            "Connecting to cdn-lfs.huggingface.co (cdn-lfs.huggingface.co)|18.67.216.100|:443... connected.\n",
            "HTTP request sent, awaiting response... 200 OK\n",
            "Length: 252841413 (241M) [binary/octet-stream]\n",
            "Saving to: ‘HiREST_BEST.pth’\n",
            "\n",
            "HiREST_BEST.pth     100%[===================>] 241,13M  10,4MB/s    in 24s     \n",
            "\n",
            "2024-09-14 15:57:54 (10,0 MB/s) - ‘HiREST_BEST.pth’ saved [252841413/252841413]\n",
            "\n"
          ]
        }
      ],
      "source": [
        "# Pretrained CLIP4Caption\n",
        "!wget https://huggingface.co/j-min/HiREST-baseline/resolve/main/clip4caption_vit-b-32_model.bin\n",
        "!mv clip4caption_vit-b-32_model.bin ./pretrained_weights/clip4caption_vit-b-32_model.bin\n",
        "\n",
        "# EVA-CLIP-G (frozen visual/textual encoder)\n",
        "!wget https://huggingface.co/BAAI/EVA/resolve/main/eva_clip_psz14.pt\n",
        "!mv eva_clip_psz14.pt ./pretrained_weights/eva_clip_psz14.pt\n",
        "\n",
        "# Finetuned HiREST joint baseline model\n",
        "!wget https://huggingface.co/j-min/HiREST-baseline/resolve/main/HiREST_BEST.pth\n",
        "!mv HiREST_BEST.pth ./checkpoints/hirest_joint_model/BEST.pth"
      ]
    },
    {
      "cell_type": "markdown",
      "metadata": {
        "id": "oQYUjAUtGACi"
      },
      "source": [
        "# Create Data Dirs"
      ]
    },
    {
      "cell_type": "code",
      "execution_count": null,
      "metadata": {
        "id": "TggkgwoEGACj"
      },
      "outputs": [],
      "source": [
        "!mkdir custom_video_pipeline/\n",
        "!mkdir custom_video_pipeline/data\n",
        "!mkdir custom_video_pipeline/data/eva_clip_features/\n",
        "!mkdir custom_video_pipeline/data/ASR_feats_all-MiniLM-L6-v2/\n",
        "!mkdir custom_video_pipeline/data/ASR/\n",
        "!mkdir custom_video_pipeline/data/raw_frames/\n",
        "!mkdir custom_video_pipeline/data/audio/\n",
        "!mkdir custom_video_pipeline/data/splits/\n",
        "!mkdir custom_video_pipeline/data/videos/"
      ]
    },
    {
      "cell_type": "markdown",
      "metadata": {
        "id": "X-aNBi5NGACj"
      },
      "source": [
        "# Download a sample video"
      ]
    },
    {
      "cell_type": "code",
      "execution_count": null,
      "metadata": {
        "colab": {
          "base_uri": "https://localhost:8080/"
        },
        "id": "A6IgKwjcGACj",
        "outputId": "576c7ef0-3ffe-43fa-efbf-ccc809002b03"
      },
      "outputs": [
        {
          "name": "stdout",
          "output_type": "stream",
          "text": [
            "--2023-03-28 17:30:11--  https://huggingface.co/j-min/HiREST-baseline/resolve/main/4Gx9W0XFAkA.mp4\n",
            "Resolving huggingface.co (huggingface.co)... 35.173.225.216, 34.203.133.210, 52.2.178.255, ...\n",
            "Connecting to huggingface.co (huggingface.co)|35.173.225.216|:443... connected.\n",
            "HTTP request sent, awaiting response... 302 Found\n",
            "Location: https://cdn-lfs.huggingface.co/repos/43/e5/43e5477f8142d4d657272c2d83709064f52cea70061d7f463fe4e9973cc4707b/89fe3b10d4318445d42460c0614dc258a94707214e5498bc344eafc7d85131b8?response-content-disposition=attachment%3B+filename*%3DUTF-8%27%274Gx9W0XFAkA.mp4%3B+filename%3D%224Gx9W0XFAkA.mp4%22%3B&response-content-type=video%2Fmp4&Expires=1680283813&Policy=eyJTdGF0ZW1lbnQiOlt7IlJlc291cmNlIjoiaHR0cHM6Ly9jZG4tbGZzLmh1Z2dpbmdmYWNlLmNvL3JlcG9zLzQzL2U1LzQzZTU0NzdmODE0MmQ0ZDY1NzI3MmMyZDgzNzA5MDY0ZjUyY2VhNzAwNjFkN2Y0NjNmZTRlOTk3M2NjNDcwN2IvODlmZTNiMTBkNDMxODQ0NWQ0MjQ2MGMwNjE0ZGMyNThhOTQ3MDcyMTRlNTQ5OGJjMzQ0ZWFmYzdkODUxMzFiOD9yZXNwb25zZS1jb250ZW50LWRpc3Bvc2l0aW9uPSomcmVzcG9uc2UtY29udGVudC10eXBlPSoiLCJDb25kaXRpb24iOnsiRGF0ZUxlc3NUaGFuIjp7IkFXUzpFcG9jaFRpbWUiOjE2ODAyODM4MTN9fX1dfQ__&Signature=NhTIBPnEp6vFz9Qjs2HW5d4Mxi9PIdaHjRo8eNV8S0-Tq9GiSNSCFlevKvEtv0Z2RUREcOW%7EoAOXqtM9MUwj%7ETK3mu9mMiNlgbjNVteR7-DfuHP4xhoiX%7EqjsmzOsvJWULHaDMSm-7Ahvtzlft17LaBhvsNXZUJbQ7CFONl4YwzCWQZGZy3Fc7AqO2IrO-WmZNuS1wX4kX1KSLVwNV%7Ejgams4H4sBDZJ17LgUGMBopjMC1B1xgXTOv7P1bm2NUxPdGixQYKPRutnSqOhHeZ5lOI7fwfYtN52mUEi78Ta4wySph9P3skkoie8Q-2yH3VBM-lhbmI4EuYEQeA%7EVz0LMQ__&Key-Pair-Id=KVTP0A1DKRTAX [following]\n",
            "--2023-03-28 17:30:12--  https://cdn-lfs.huggingface.co/repos/43/e5/43e5477f8142d4d657272c2d83709064f52cea70061d7f463fe4e9973cc4707b/89fe3b10d4318445d42460c0614dc258a94707214e5498bc344eafc7d85131b8?response-content-disposition=attachment%3B+filename*%3DUTF-8%27%274Gx9W0XFAkA.mp4%3B+filename%3D%224Gx9W0XFAkA.mp4%22%3B&response-content-type=video%2Fmp4&Expires=1680283813&Policy=eyJTdGF0ZW1lbnQiOlt7IlJlc291cmNlIjoiaHR0cHM6Ly9jZG4tbGZzLmh1Z2dpbmdmYWNlLmNvL3JlcG9zLzQzL2U1LzQzZTU0NzdmODE0MmQ0ZDY1NzI3MmMyZDgzNzA5MDY0ZjUyY2VhNzAwNjFkN2Y0NjNmZTRlOTk3M2NjNDcwN2IvODlmZTNiMTBkNDMxODQ0NWQ0MjQ2MGMwNjE0ZGMyNThhOTQ3MDcyMTRlNTQ5OGJjMzQ0ZWFmYzdkODUxMzFiOD9yZXNwb25zZS1jb250ZW50LWRpc3Bvc2l0aW9uPSomcmVzcG9uc2UtY29udGVudC10eXBlPSoiLCJDb25kaXRpb24iOnsiRGF0ZUxlc3NUaGFuIjp7IkFXUzpFcG9jaFRpbWUiOjE2ODAyODM4MTN9fX1dfQ__&Signature=NhTIBPnEp6vFz9Qjs2HW5d4Mxi9PIdaHjRo8eNV8S0-Tq9GiSNSCFlevKvEtv0Z2RUREcOW%7EoAOXqtM9MUwj%7ETK3mu9mMiNlgbjNVteR7-DfuHP4xhoiX%7EqjsmzOsvJWULHaDMSm-7Ahvtzlft17LaBhvsNXZUJbQ7CFONl4YwzCWQZGZy3Fc7AqO2IrO-WmZNuS1wX4kX1KSLVwNV%7Ejgams4H4sBDZJ17LgUGMBopjMC1B1xgXTOv7P1bm2NUxPdGixQYKPRutnSqOhHeZ5lOI7fwfYtN52mUEi78Ta4wySph9P3skkoie8Q-2yH3VBM-lhbmI4EuYEQeA%7EVz0LMQ__&Key-Pair-Id=KVTP0A1DKRTAX\n",
            "Resolving cdn-lfs.huggingface.co (cdn-lfs.huggingface.co)... 54.192.150.19, 54.192.150.21, 54.192.150.84, ...\n",
            "Connecting to cdn-lfs.huggingface.co (cdn-lfs.huggingface.co)|54.192.150.19|:443... connected.\n",
            "HTTP request sent, awaiting response... 200 OK\n",
            "Length: 55181372 (53M) [video/mp4]\n",
            "Saving to: ‘4Gx9W0XFAkA.mp4’\n",
            "\n",
            "4Gx9W0XFAkA.mp4     100%[===================>]  52.62M  12.6MB/s    in 4.2s    \n",
            "\n",
            "2023-03-28 17:30:18 (12.6 MB/s) - ‘4Gx9W0XFAkA.mp4’ saved [55181372/55181372]\n",
            "\n"
          ]
        }
      ],
      "source": [
        "# !wget https://huggingface.co/j-min/HiREST-baseline/resolve/main/4Gx9W0XFAkA.mp4\n",
        "# !mv 4Gx9W0XFAkA.mp4 ./custom_video_pipeline/data/videos/4Gx9W0XFAkA.mp4"
      ]
    },
    {
      "cell_type": "markdown",
      "metadata": {
        "id": "Cne8gLsrGACj"
      },
      "source": [
        "# Create Video Data Structure"
      ]
    },
    {
      "cell_type": "code",
      "execution_count": null,
      "metadata": {
        "id": "aMvWb68_GACk"
      },
      "outputs": [],
      "source": [
        "import json"
      ]
    },
    {
      "cell_type": "code",
      "execution_count": null,
      "metadata": {
        "id": "-dlhP7x_GACk"
      },
      "outputs": [],
      "source": [
        "data = {\n",
        "    \"Make Butter Biscuits\": {\n",
        "        \"4Gx9W0XFAkA.mp4\": {\n",
        "            \"relevant\": True,\n",
        "            \"clip\": True,\n",
        "            \"v_duration\": 299.73,\n",
        "            \"bounds\": [ 0, 1 ],\n",
        "            \"steps\": [ ]\n",
        "        }\n",
        "    }\n",
        "}\n",
        "\n",
        "with open(\"./custom_video_pipeline/data/splits/all_data_test.json\", 'w') as f:\n",
        "    json.dump(data, f)"
      ]
    },
    {
      "cell_type": "markdown",
      "metadata": {
        "id": "OnHr1-8mGACk"
      },
      "source": [
        "# Extract ASR Features\n",
        "*Note: Due to slight randomness with Whisper, ASR results may vary between runs"
      ]
    },
    {
      "cell_type": "code",
      "execution_count": null,
      "metadata": {
        "colab": {
          "base_uri": "https://localhost:8080/"
        },
        "id": "MbDcRrmpGACk",
        "outputId": "8a102924-975f-4c04-a452-17264da94049"
      },
      "outputs": [
        {
          "name": "stdout",
          "output_type": "stream",
          "text": [
            "Extracting audio from videos...\n",
            "Found 1 videos at custom_video_pipeline/data/videos\n",
            "Will save audio to custom_video_pipeline/data/audio\n",
            "Multiprocessing with 1 workers\n",
            "  0% 0/1 [00:00<?, ?it/s]size=    9367kB time=00:04:59.74 bitrate= 256.0kbits/s speed= 659x    \n",
            "100% 1/1 [00:01<00:00,  1.27s/it]\n"
          ]
        }
      ],
      "source": [
        "!python ./extraction/whisper_ASR/extract_audio.py --workers 1 --data_path ./custom_video_pipeline/data/splits/all_data_test.json --save_path ./custom_video_pipeline/data/audio/ --video_path ./custom_video_pipeline/data/videos/"
      ]
    },
    {
      "cell_type": "code",
      "execution_count": null,
      "metadata": {
        "colab": {
          "base_uri": "https://localhost:8080/"
        },
        "id": "vE4J77P-GACl",
        "outputId": "a737ebf0-4f3b-4403-9d30-dc2988d5ca0e"
      },
      "outputs": [
        {
          "name": "stdout",
          "output_type": "stream",
          "text": [
            "Namespace(model='small.en', audio_dir='./custom_video_pipeline/data/audio/', asr_dir='./custom_video_pipeline/data/ASR/')\n",
            "100%|███████████████████████████████████████| 461M/461M [00:13<00:00, 36.1MiB/s]\n",
            "Model loaded:  small.en at device cuda:0\n",
            "  0% 0/1 [00:00<?, ?it/s]2023-03-28 17:31:21.234631: W tensorflow/compiler/xla/stream_executor/platform/default/dso_loader.cc:64] Could not load dynamic library 'libnvinfer.so.7'; dlerror: libnvinfer.so.7: cannot open shared object file: No such file or directory; LD_LIBRARY_PATH: /usr/lib64-nvidia\n",
            "2023-03-28 17:31:21.234751: W tensorflow/compiler/xla/stream_executor/platform/default/dso_loader.cc:64] Could not load dynamic library 'libnvinfer_plugin.so.7'; dlerror: libnvinfer_plugin.so.7: cannot open shared object file: No such file or directory; LD_LIBRARY_PATH: /usr/lib64-nvidia\n",
            "2023-03-28 17:31:21.234773: W tensorflow/compiler/tf2tensorrt/utils/py_utils.cc:38] TF-TRT Warning: Cannot dlopen some TensorRT libraries. If you would like to use Nvidia GPU with TensorRT, please make sure the missing libraries mentioned above are installed properly.\n",
            "100% 1/1 [00:47<00:00, 47.56s/it]\n"
          ]
        }
      ],
      "source": [
        "!python ./extraction/whisper_ASR/extract_ASR.py --model small.en --audio_dir ./custom_video_pipeline/data/audio/ --asr_dir ./custom_video_pipeline/data/ASR/"
      ]
    },
    {
      "cell_type": "code",
      "execution_count": null,
      "metadata": {
        "colab": {
          "base_uri": "https://localhost:8080/"
        },
        "id": "AgCNuMfJRbLo",
        "outputId": "2439fb4d-e811-412e-8eae-12956370432b"
      },
      "outputs": [
        {
          "name": "stdout",
          "output_type": "stream",
          "text": [
            "1\n",
            "00:00:00,000 --> 00:00:12,320\n",
            "What's up YouTube, y'all know I'm good?\n",
            "\n",
            "2\n",
            "00:00:12,320 --> 00:00:13,320\n",
            "You good?\n",
            "\n",
            "3\n",
            "00:00:13,320 --> 00:00:14,320\n",
            "You good?\n",
            "\n",
            "4\n",
            "00:00:14,320 --> 00:00:15,320\n",
            "I'm good, you good?\n",
            "\n",
            "5\n",
            "00:00:15,320 --> 00:00:16,320\n",
            "Okay good.\n",
            "\n"
          ]
        }
      ],
      "source": [
        "# ASR result\n",
        "!head -n 20 ./custom_video_pipeline/data/ASR/4Gx9W0XFAkA.srt"
      ]
    },
    {
      "cell_type": "code",
      "execution_count": null,
      "metadata": {
        "colab": {
          "base_uri": "https://localhost:8080/"
        },
        "id": "8shSJXDsGACl",
        "outputId": "4c34a569-7a3a-4ada-ba14-b8b479ea6843"
      },
      "outputs": [
        {
          "name": "stdout",
          "output_type": "stream",
          "text": [
            "Namespace(model='sentence-transformers/all-MiniLM-L6-v2', asr_dir='./custom_video_pipeline/data/ASR/', save_dir='./custom_video_pipeline/data/ASR_feats_all-MiniLM-L6-v2/')\n",
            "Downloading (…)e9125/.gitattributes: 100% 1.18k/1.18k [00:00<00:00, 180kB/s]\n",
            "Downloading (…)_Pooling/config.json: 100% 190/190 [00:00<00:00, 31.3kB/s]\n",
            "Downloading (…)7e55de9125/README.md: 100% 10.6k/10.6k [00:00<00:00, 3.47MB/s]\n",
            "Downloading (…)55de9125/config.json: 100% 612/612 [00:00<00:00, 196kB/s]\n",
            "Downloading (…)ce_transformers.json: 100% 116/116 [00:00<00:00, 44.4kB/s]\n",
            "Downloading (…)125/data_config.json: 100% 39.3k/39.3k [00:00<00:00, 175kB/s]\n",
            "Downloading pytorch_model.bin: 100% 90.9M/90.9M [00:00<00:00, 219MB/s]\n",
            "Downloading (…)nce_bert_config.json: 100% 53.0/53.0 [00:00<00:00, 8.67kB/s]\n",
            "Downloading (…)cial_tokens_map.json: 100% 112/112 [00:00<00:00, 42.2kB/s]\n",
            "Downloading (…)e9125/tokenizer.json: 100% 466k/466k [00:00<00:00, 526kB/s]\n",
            "Downloading (…)okenizer_config.json: 100% 350/350 [00:00<00:00, 113kB/s]\n",
            "Downloading (…)9125/train_script.py: 100% 13.2k/13.2k [00:00<00:00, 4.90MB/s]\n",
            "Downloading (…)7e55de9125/vocab.txt: 100% 232k/232k [00:00<00:00, 347kB/s]\n",
            "Downloading (…)5de9125/modules.json: 100% 349/349 [00:00<00:00, 115kB/s]\n",
            "model loaded:  sentence-transformers/all-MiniLM-L6-v2\n",
            "ASR_feats_dir:  custom_video_pipeline/data/ASR_feats_all-MiniLM-L6-v2\n",
            "100% 1/1 [00:00<00:00,  1.50it/s]\n"
          ]
        }
      ],
      "source": [
        "!python ./extraction/whisper_ASR/extract_ASR_embedding.py --model sentence-transformers/all-MiniLM-L6-v2 --asr_dir ./custom_video_pipeline/data/ASR/ --save_dir ./custom_video_pipeline/data/ASR_feats_all-MiniLM-L6-v2/"
      ]
    },
    {
      "cell_type": "markdown",
      "metadata": {
        "id": "Q79Uqdm-GACl"
      },
      "source": [
        "# Extract Video Features"
      ]
    },
    {
      "cell_type": "code",
      "execution_count": null,
      "metadata": {
        "colab": {
          "base_uri": "https://localhost:8080/"
        },
        "id": "afy4rzppGACl",
        "outputId": "0dc99cf2-a2cc-4f5d-c1fe-9fbe498ffd9f"
      },
      "outputs": [
        {
          "name": "stdout",
          "output_type": "stream",
          "text": [
            "Namespace(workers=1, data_path='./custom_video_pipeline/data/splits/all_data_test.json', save_path='./custom_video_pipeline/data/raw_frames/', video_path='./custom_video_pipeline/data/videos/')\n",
            "CV2 version: 4.7.0\n",
            "Loaded data from ./custom_video_pipeline/data/splits/all_data_test.json\n",
            "Saving frames to custom_video_pipeline/data/raw_frames\n",
            "\r  0% 0/1 [00:00<?, ?it/s]\r100% 1/1 [00:00<00:00, 15420.24it/s]\n",
            "Extracting frames from 1 videos\n",
            "Using 1 worker\n",
            "100% 1/1 [01:23<00:00, 83.81s/it]\n",
            "Done\n"
          ]
        }
      ],
      "source": [
        "# extract video frames in 1fps\n",
        "!python ./extraction/video_features/extract_frames.py --workers 1 --data_path ./custom_video_pipeline/data/splits/all_data_test.json --save_path ./custom_video_pipeline/data/raw_frames/ --video_path ./custom_video_pipeline/data/videos/"
      ]
    },
    {
      "cell_type": "code",
      "execution_count": null,
      "metadata": {
        "colab": {
          "base_uri": "https://localhost:8080/"
        },
        "id": "jsK8xggiGACl",
        "outputId": "0a32619e-f30f-44df-9a8d-33aed30da422"
      },
      "outputs": [
        {
          "name": "stdout",
          "output_type": "stream",
          "text": [
            "Namespace(device=0, slice_start=0, slice_end=-1, frame_path='./custom_video_pipeline/data/raw_frames/', save_path='./custom_video_pipeline/data/eva_clip_features/', batch_size=10)\n",
            "<All keys matched successfully>\n",
            "100% 1/1 [01:00<00:00, 60.51s/it]\n"
          ]
        }
      ],
      "source": [
        "# extract EVA-CLIP-G features\n",
        "!python ./extraction/video_features/extract_features.py --frame_path ./custom_video_pipeline/data/raw_frames/ --save_path ./custom_video_pipeline/data/eva_clip_features/ --batch_size 10"
      ]
    },
    {
      "cell_type": "code",
      "execution_count": null,
      "metadata": {
        "colab": {
          "base_uri": "https://localhost:8080/"
        },
        "id": "z0GWEqCzGACl",
        "outputId": "f70f969a-caf6-44a7-fe8a-de754a6b4581"
      },
      "outputs": [
        {
          "name": "stdout",
          "output_type": "stream",
          "text": [
            "\r  0% 0/1 [00:00<?, ?it/s]\r100% 1/1 [00:00<00:00, 614.82it/s]\n"
          ]
        }
      ],
      "source": [
        "!python ./extraction/video_features/check_feature_size.py --data_file ./custom_video_pipeline/data/splits/all_data_test.json --feature_folder ./custom_video_pipeline/data/eva_clip_features/"
      ]
    },
    {
      "cell_type": "markdown",
      "metadata": {
        "id": "yuzn0FKAGACm"
      },
      "source": [
        "# Run the Model End-to-End for all tasks:\n",
        "\n",
        "moment_retrieval -> moment_segmentation -> step_captioning"
      ]
    },
    {
      "cell_type": "code",
      "execution_count": 3,
      "metadata": {
        "colab": {
          "base_uri": "https://localhost:8080/"
        },
        "id": "ndVfUZuiGACm",
        "outputId": "59fd030d-901c-46c7-8e06-d4f27f5e9c6b"
      },
      "outputs": [
        {
          "name": "stdout",
          "output_type": "stream",
          "text": [
            "Namespace(train=False, seed=2222, comment='', device='cuda', data_dir='./custom_pipeline/splits/', video_feature_dir='./custom_pipeline/eva_clip_features', asr_dir='./custom_pipeline/ASR', asr_feature_dir='./custom_pipeline/ASR_feats_all-MiniLM-L6-v2', task_moment_retrieval=True, task_moment_segmentation=True, task_step_captioning=True, end_to_end=True, train_batch_size=32, eval_batch_size=5, clip_grad_norm=-1.0, gradient_accumulation_steps=1, epochs=10, optim='adamw', lr=1e-05, fp16=False, weight_decay=0.0, warmup_steps=0.1, n_model_frames=-1, num_workers=4, distributed=False, load=None, ckpt_dir='./checkpoints/hirest_joint_model/', num_thread_reader=16, n_display=16, max_frames_step_captioning=20, max_words=48, visual_num_hidden_layers=2, decoder_num_hidden_layers=2, moment_segmentation_difference_threshold=0.5, moment_segmentation_max_iterations=20, num_beams=5, run_name='clip_g_VR_32frames_avgpool', video_retrieval_model='clip_g', raw_frame=False, save_feats=False, local_rank=0, gpu=0, world_size=1)\n",
            "Process Launching at GPU 0\n",
            "/home/hung/HiREST/hirest/lib/python3.10/site-packages/kornia/feature/lightglue.py:44: FutureWarning: `torch.cuda.amp.custom_fwd(args...)` is deprecated. Please use `torch.amp.custom_fwd(args..., device_type='cuda')` instead.\n",
            "  @torch.cuda.amp.custom_fwd(cast_inputs=torch.float32)\n",
            "NLGEval not installed, if you want to train CLIP4Caption,\n",
            "          please install it via pip install git+https://github.com/Maluuba/nlg-eval.git@master\n",
            "tasks: ['moment_retrieval', 'moment_segmentation', 'step_captioning']\n",
            "https://s3.amazonaws.com/models.huggingface.co/bert/bert-base-uncased-vocab.txt\n",
            "/home/hung/HiREST/modeling.py:102: FutureWarning: You are using `torch.load` with `weights_only=False` (the current default value), which uses the default pickle module implicitly. It is possible to construct malicious pickle data which will execute arbitrary code during unpickling (See https://github.com/pytorch/pytorch/blob/main/SECURITY.md#untrusted-models for more details). In a future release, the default value for `weights_only` will be flipped to `True`. This limits the functions that could be executed during unpickling. Arbitrary objects will no longer be allowed to be loaded via this mode unless they are explicitly allowlisted by the user via `torch.serialization.add_safe_globals`. We recommend you start setting `weights_only=True` for any use case where you don't have full control of the loaded file. Please open an issue on GitHub for any issues related to this experimental feature.\n",
            "  model_state_dict = torch.load(\"./pretrained_weights/clip4caption_vit-b-32_model.bin\", map_location='cpu')\n",
            "Set visual_config.num_hidden_layers: 2.\n",
            "Set decoder_config.num_decoder_layers: 2.\n",
            "Weights from pretrained model cause errors in CaptionGenerator: \n",
            "   size mismatch for visual.embeddings.position_embeddings.weight: copying a param with shape torch.Size([512, 768]) from checkpoint, the shape in current model is torch.Size([2048, 768]).\n",
            "/home/hung/HiREST/./EVA_clip/eva_clip.py:69: FutureWarning: You are using `torch.load` with `weights_only=False` (the current default value), which uses the default pickle module implicitly. It is possible to construct malicious pickle data which will execute arbitrary code during unpickling (See https://github.com/pytorch/pytorch/blob/main/SECURITY.md#untrusted-models for more details). In a future release, the default value for `weights_only` will be flipped to `True`. This limits the functions that could be executed during unpickling. Arbitrary objects will no longer be allowed to be loaded via this mode unless they are explicitly allowlisted by the user via `torch.serialization.add_safe_globals`. We recommend you start setting `weights_only=True` for any use case where you don't have full control of the loaded file. Please open an issue on GitHub for any issues related to this experimental feature.\n",
            "  checkpoint = torch.load(checkpoint_path, map_location=map_location)\n",
            "<All keys matched successfully>\n",
            "Loaded EVA CLIP G\n",
            "# total parameters: 1199.62M\n",
            "# trainable parameters: 63.19M\n",
            "Building train loader at GPU 0\n",
            "Building test loader at GPU 0\n",
            "https://s3.amazonaws.com/models.huggingface.co/bert/bert-base-uncased-vocab.txt\n",
            "# moment_retrieval examples: 1\n",
            "Model Launching at GPU 0\n",
            "It took 0.0s\n",
            "/home/hung/HiREST/trainer_base.py:136: FutureWarning: You are using `torch.load` with `weights_only=False` (the current default value), which uses the default pickle module implicitly. It is possible to construct malicious pickle data which will execute arbitrary code during unpickling (See https://github.com/pytorch/pytorch/blob/main/SECURITY.md#untrusted-models for more details). In a future release, the default value for `weights_only` will be flipped to `True`. This limits the functions that could be executed during unpickling. Arbitrary objects will no longer be allowed to be loaded via this mode unless they are explicitly allowlisted by the user via `torch.serialization.add_safe_globals`. We recommend you start setting `weights_only=True` for any use case where you don't have full control of the loaded file. Please open an issue on GitHub for any issues related to this experimental feature.\n",
            "  state_dict = torch.load(\"%s.pth\" % path, map_location=loc)\n",
            "Model loaded from  ./checkpoints/hirest_joint_model/BEST\n",
            "Moment_retrieval Prediction:   0%|                                                                | 0/1 [00:00<?, ?it/s]/home/hung/HiREST/hirest_dataset.py:331: FutureWarning: You are using `torch.load` with `weights_only=False` (the current default value), which uses the default pickle module implicitly. It is possible to construct malicious pickle data which will execute arbitrary code during unpickling (See https://github.com/pytorch/pytorch/blob/main/SECURITY.md#untrusted-models for more details). In a future release, the default value for `weights_only` will be flipped to `True`. This limits the functions that could be executed during unpickling. Arbitrary objects will no longer be allowed to be loaded via this mode unless they are explicitly allowlisted by the user via `torch.serialization.add_safe_globals`. We recommend you start setting `weights_only=True` for any use case where you don't have full control of the loaded file. Please open an issue on GitHub for any issues related to this experimental feature.\n",
            "  video_features = torch.load(video_feature_path, map_location='cpu')\n",
            "/home/hung/HiREST/hirest_dataset.py:368: FutureWarning: You are using `torch.load` with `weights_only=False` (the current default value), which uses the default pickle module implicitly. It is possible to construct malicious pickle data which will execute arbitrary code during unpickling (See https://github.com/pytorch/pytorch/blob/main/SECURITY.md#untrusted-models for more details). In a future release, the default value for `weights_only` will be flipped to `True`. This limits the functions that could be executed during unpickling. Arbitrary objects will no longer be allowed to be loaded via this mode unless they are explicitly allowlisted by the user via `torch.serialization.add_safe_globals`. We recommend you start setting `weights_only=True` for any use case where you don't have full control of the loaded file. Please open an issue on GitHub for any issues related to this experimental feature.\n",
            "  asr_features = torch.load(asr_feature_path, map_location='cpu')\n",
            "Moment_retrieval Prediction: 100%|████████████████████████████████████████████████████████| 1/1 [00:00<00:00,  1.25it/s]\n",
            "/home/hung/HiREST/hirest/lib/python3.10/site-packages/numpy/_core/fromnumeric.py:3904: RuntimeWarning: Mean of empty slice.\n",
            "  return _methods._mean(a, axis=axis, dtype=dtype,\n",
            "/home/hung/HiREST/hirest/lib/python3.10/site-packages/numpy/_core/_methods.py:147: RuntimeWarning: invalid value encountered in scalar divide\n",
            "  ret = ret.dtype.type(ret / rcount)\n",
            "Saved ./checkpoints/hirest_joint_model/test_moment_retrieval_end_to_end.json\n",
            "https://s3.amazonaws.com/models.huggingface.co/bert/bert-base-uncased-vocab.txt\n",
            "# moment_segmentation examples: 1\n",
            "Moment_segmentation Prediction:   0%|                                                             | 0/1 [00:00<?, ?it/s]/home/hung/HiREST/hirest_dataset.py:331: FutureWarning: You are using `torch.load` with `weights_only=False` (the current default value), which uses the default pickle module implicitly. It is possible to construct malicious pickle data which will execute arbitrary code during unpickling (See https://github.com/pytorch/pytorch/blob/main/SECURITY.md#untrusted-models for more details). In a future release, the default value for `weights_only` will be flipped to `True`. This limits the functions that could be executed during unpickling. Arbitrary objects will no longer be allowed to be loaded via this mode unless they are explicitly allowlisted by the user via `torch.serialization.add_safe_globals`. We recommend you start setting `weights_only=True` for any use case where you don't have full control of the loaded file. Please open an issue on GitHub for any issues related to this experimental feature.\n",
            "  video_features = torch.load(video_feature_path, map_location='cpu')\n",
            "/home/hung/HiREST/hirest_dataset.py:368: FutureWarning: You are using `torch.load` with `weights_only=False` (the current default value), which uses the default pickle module implicitly. It is possible to construct malicious pickle data which will execute arbitrary code during unpickling (See https://github.com/pytorch/pytorch/blob/main/SECURITY.md#untrusted-models for more details). In a future release, the default value for `weights_only` will be flipped to `True`. This limits the functions that could be executed during unpickling. Arbitrary objects will no longer be allowed to be loaded via this mode unless they are explicitly allowlisted by the user via `torch.serialization.add_safe_globals`. We recommend you start setting `weights_only=True` for any use case where you don't have full control of the loaded file. Please open an issue on GitHub for any issues related to this experimental feature.\n",
            "  asr_features = torch.load(asr_feature_path, map_location='cpu')\n",
            "Moment_segmentation Prediction: 100%|█████████████████████████████████████████████████████| 1/1 [00:01<00:00,  1.98s/it]\n",
            "https://s3.amazonaws.com/models.huggingface.co/bert/bert-base-uncased-vocab.txt\n",
            "# step_captioning examples: 16\n",
            "Step_captioning Prediction:   0%|                                                                 | 0/4 [00:00<?, ?it/s]/home/hung/HiREST/hirest_dataset.py:331: FutureWarning: You are using `torch.load` with `weights_only=False` (the current default value), which uses the default pickle module implicitly. It is possible to construct malicious pickle data which will execute arbitrary code during unpickling (See https://github.com/pytorch/pytorch/blob/main/SECURITY.md#untrusted-models for more details). In a future release, the default value for `weights_only` will be flipped to `True`. This limits the functions that could be executed during unpickling. Arbitrary objects will no longer be allowed to be loaded via this mode unless they are explicitly allowlisted by the user via `torch.serialization.add_safe_globals`. We recommend you start setting `weights_only=True` for any use case where you don't have full control of the loaded file. Please open an issue on GitHub for any issues related to this experimental feature.\n",
            "  video_features = torch.load(video_feature_path, map_location='cpu')\n",
            "/home/hung/HiREST/hirest_dataset.py:331: FutureWarning: You are using `torch.load` with `weights_only=False` (the current default value), which uses the default pickle module implicitly. It is possible to construct malicious pickle data which will execute arbitrary code during unpickling (See https://github.com/pytorch/pytorch/blob/main/SECURITY.md#untrusted-models for more details). In a future release, the default value for `weights_only` will be flipped to `True`. This limits the functions that could be executed during unpickling. Arbitrary objects will no longer be allowed to be loaded via this mode unless they are explicitly allowlisted by the user via `torch.serialization.add_safe_globals`. We recommend you start setting `weights_only=True` for any use case where you don't have full control of the loaded file. Please open an issue on GitHub for any issues related to this experimental feature.\n",
            "  video_features = torch.load(video_feature_path, map_location='cpu')\n",
            "/home/hung/HiREST/hirest_dataset.py:331: FutureWarning: You are using `torch.load` with `weights_only=False` (the current default value), which uses the default pickle module implicitly. It is possible to construct malicious pickle data which will execute arbitrary code during unpickling (See https://github.com/pytorch/pytorch/blob/main/SECURITY.md#untrusted-models for more details). In a future release, the default value for `weights_only` will be flipped to `True`. This limits the functions that could be executed during unpickling. Arbitrary objects will no longer be allowed to be loaded via this mode unless they are explicitly allowlisted by the user via `torch.serialization.add_safe_globals`. We recommend you start setting `weights_only=True` for any use case where you don't have full control of the loaded file. Please open an issue on GitHub for any issues related to this experimental feature.\n",
            "  video_features = torch.load(video_feature_path, map_location='cpu')\n",
            "/home/hung/HiREST/hirest_dataset.py:368: FutureWarning: You are using `torch.load` with `weights_only=False` (the current default value), which uses the default pickle module implicitly. It is possible to construct malicious pickle data which will execute arbitrary code during unpickling (See https://github.com/pytorch/pytorch/blob/main/SECURITY.md#untrusted-models for more details). In a future release, the default value for `weights_only` will be flipped to `True`. This limits the functions that could be executed during unpickling. Arbitrary objects will no longer be allowed to be loaded via this mode unless they are explicitly allowlisted by the user via `torch.serialization.add_safe_globals`. We recommend you start setting `weights_only=True` for any use case where you don't have full control of the loaded file. Please open an issue on GitHub for any issues related to this experimental feature.\n",
            "  asr_features = torch.load(asr_feature_path, map_location='cpu')\n",
            "/home/hung/HiREST/hirest_dataset.py:368: FutureWarning: You are using `torch.load` with `weights_only=False` (the current default value), which uses the default pickle module implicitly. It is possible to construct malicious pickle data which will execute arbitrary code during unpickling (See https://github.com/pytorch/pytorch/blob/main/SECURITY.md#untrusted-models for more details). In a future release, the default value for `weights_only` will be flipped to `True`. This limits the functions that could be executed during unpickling. Arbitrary objects will no longer be allowed to be loaded via this mode unless they are explicitly allowlisted by the user via `torch.serialization.add_safe_globals`. We recommend you start setting `weights_only=True` for any use case where you don't have full control of the loaded file. Please open an issue on GitHub for any issues related to this experimental feature.\n",
            "  asr_features = torch.load(asr_feature_path, map_location='cpu')\n",
            "/home/hung/HiREST/hirest_dataset.py:331: FutureWarning: You are using `torch.load` with `weights_only=False` (the current default value), which uses the default pickle module implicitly. It is possible to construct malicious pickle data which will execute arbitrary code during unpickling (See https://github.com/pytorch/pytorch/blob/main/SECURITY.md#untrusted-models for more details). In a future release, the default value for `weights_only` will be flipped to `True`. This limits the functions that could be executed during unpickling. Arbitrary objects will no longer be allowed to be loaded via this mode unless they are explicitly allowlisted by the user via `torch.serialization.add_safe_globals`. We recommend you start setting `weights_only=True` for any use case where you don't have full control of the loaded file. Please open an issue on GitHub for any issues related to this experimental feature.\n",
            "  video_features = torch.load(video_feature_path, map_location='cpu')\n",
            "/home/hung/HiREST/hirest_dataset.py:368: FutureWarning: You are using `torch.load` with `weights_only=False` (the current default value), which uses the default pickle module implicitly. It is possible to construct malicious pickle data which will execute arbitrary code during unpickling (See https://github.com/pytorch/pytorch/blob/main/SECURITY.md#untrusted-models for more details). In a future release, the default value for `weights_only` will be flipped to `True`. This limits the functions that could be executed during unpickling. Arbitrary objects will no longer be allowed to be loaded via this mode unless they are explicitly allowlisted by the user via `torch.serialization.add_safe_globals`. We recommend you start setting `weights_only=True` for any use case where you don't have full control of the loaded file. Please open an issue on GitHub for any issues related to this experimental feature.\n",
            "  asr_features = torch.load(asr_feature_path, map_location='cpu')\n",
            "/home/hung/HiREST/hirest_dataset.py:368: FutureWarning: You are using `torch.load` with `weights_only=False` (the current default value), which uses the default pickle module implicitly. It is possible to construct malicious pickle data which will execute arbitrary code during unpickling (See https://github.com/pytorch/pytorch/blob/main/SECURITY.md#untrusted-models for more details). In a future release, the default value for `weights_only` will be flipped to `True`. This limits the functions that could be executed during unpickling. Arbitrary objects will no longer be allowed to be loaded via this mode unless they are explicitly allowlisted by the user via `torch.serialization.add_safe_globals`. We recommend you start setting `weights_only=True` for any use case where you don't have full control of the loaded file. Please open an issue on GitHub for any issues related to this experimental feature.\n",
            "  asr_features = torch.load(asr_feature_path, map_location='cpu')\n",
            "Step_captioning Prediction: 100%|█████████████████████████████████████████████████████████| 4/4 [00:03<00:00,  1.11it/s]\n",
            "Final results saved too: ./checkpoints/hirest_joint_model//final_end_to_end_results.json !\n"
          ]
        }
      ],
      "source": [
        "!python run.py \\\n",
        "        --data_dir './custom_pipeline/splits/' \\\n",
        "        --video_feature_dir './custom_pipeline/eva_clip_features' \\\n",
        "        --asr_dir './custom_pipeline/ASR' \\\n",
        "        --asr_feature_dir './custom_pipeline/ASR_feats_all-MiniLM-L6-v2' \\\n",
        "        --eval_batch_size 5 \\\n",
        "        --task_moment_retrieval \\\n",
        "        --task_moment_segmentation \\\n",
        "        --task_step_captioning \\\n",
        "        --ckpt_dir './checkpoints/hirest_joint_model/' \\\n",
        "        --end_to_end"
      ]
    },
    {
      "cell_type": "markdown",
      "metadata": {
        "id": "7T11tKkJGACm"
      },
      "source": [
        "# Print Final Results"
      ]
    },
    {
      "cell_type": "code",
      "execution_count": null,
      "metadata": {
        "colab": {
          "base_uri": "https://localhost:8080/"
        },
        "id": "uch6-y2RGACm",
        "outputId": "1a75b3df-9982-4ea3-f87f-1c0808e510ab"
      },
      "outputs": [
        {
          "name": "stdout",
          "output_type": "stream",
          "text": [
            "Prompt: Make Butter Biscuits\n",
            "Video: 4Gx9W0XFAkA.mp4\n",
            "Retrieved Moment: [35, 250]\n",
            "Segment 0: [35, 47] mix it\n",
            "Segment 1: [47, 52] mix it\n",
            "Segment 2: [52, 64] mix it\n",
            "Segment 3: [64, 73] bake it in oven\n",
            "Segment 4: [73, 78] transfer into plate\n",
            "Segment 5: [78, 93] mix it well\n",
            "Segment 6: [93, 99] mix it\n",
            "Segment 7: [99, 113] mix it\n",
            "Segment 8: [113, 122] mix it\n",
            "Segment 9: [122, 129] bake it in oven\n",
            "Segment 10: [129, 138] repeat the process\n",
            "Segment 11: [138, 143] repeat the process\n",
            "Segment 12: [143, 161] roll it out\n",
            "Segment 13: [161, 166] put it on plate\n",
            "Segment 14: [166, 172] mix it well\n",
            "Segment 15: [172, 180] bake it in oven\n",
            "Segment 16: [180, 187] cut it out\n"
          ]
        }
      ],
      "source": [
        "with open(\"./checkpoints/hirest_joint_model/final_end_to_end_results.json\", 'r') as f:\n",
        "    results = json.load(f)\n",
        "\n",
        "for prompt in results:\n",
        "    print(\"Prompt:\", prompt)\n",
        "    for video in results[prompt]:\n",
        "        print(\"Video:\", video)\n",
        "\n",
        "        print(\"Retrieved Moment:\", results[prompt][video][\"bounds\"])\n",
        "        \n",
        "        for step in results[prompt][video][\"steps\"]:\n",
        "            print(f\"Segment {step['index']}:\", step[\"absolute_bounds\"], step[\"heading\"])"
      ]
    },
    {
      "cell_type": "markdown",
      "metadata": {
        "id": "xtxww6pXcW6t"
      },
      "source": [
        "# Compare with original video"
      ]
    },
    {
      "cell_type": "code",
      "execution_count": null,
      "metadata": {
        "colab": {
          "base_uri": "https://localhost:8080/",
          "height": 336
        },
        "id": "up4qMIGqbryn",
        "outputId": "8a767c4f-2a0b-44c4-f387-26a259be2bc3"
      },
      "outputs": [
        {
          "data": {
            "text/html": [
              "<iframe width=\"560\" height=\"315\" src=\"https://www.youtube.com/embed/4Gx9W0XFAkA\" title=\"YouTube video player\" frameborder=\"0\" allow=\"accelerometer; autoplay; clipboard-write; encrypted-media; gyroscope; picture-in-picture; web-share\" allowfullscreen></iframe>\n"
            ],
            "text/plain": [
              "<IPython.core.display.HTML object>"
            ]
          },
          "metadata": {},
          "output_type": "display_data"
        }
      ],
      "source": [
        "%%html\n",
        "<iframe width=\"560\" height=\"315\" src=\"https://www.youtube.com/embed/4Gx9W0XFAkA\" title=\"YouTube video player\" frameborder=\"0\" allow=\"accelerometer; autoplay; clipboard-write; encrypted-media; gyroscope; picture-in-picture; web-share\" allowfullscreen></iframe>"
      ]
    }
  ],
  "metadata": {
    "accelerator": "GPU",
    "colab": {
      "include_colab_link": true,
      "provenance": []
    },
    "gpuClass": "standard",
    "kernelspec": {
      "display_name": "Python 3",
      "language": "python",
      "name": "python3"
    },
    "language_info": {
      "codemirror_mode": {
        "name": "ipython",
        "version": 3
      },
      "file_extension": ".py",
      "mimetype": "text/x-python",
      "name": "python",
      "nbconvert_exporter": "python",
      "pygments_lexer": "ipython3",
      "version": "3.10.12"
    },
    "orig_nbformat": 4
  },
  "nbformat": 4,
  "nbformat_minor": 0
}
